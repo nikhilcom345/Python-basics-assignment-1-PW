{
 "cells": [
  {
   "cell_type": "markdown",
   "id": "74c58676",
   "metadata": {},
   "source": [
    "ASSIGNMENT\n",
    "\n",
    "PYTHON BASIC QUESTION\n",
    "\n",
    "1. What is python, and why is it popular?\n",
    "ANS - Python is a high level , interpreted programming language known for its simplicity and readability. It support multiple programming paradigms, including procedural, object oriented and functional programming.\n",
    "\n",
    "Reasons for its popularity:\n",
    "\n",
    "- Simple and clean syntax - Easy to learn and use, even for beginners.\n",
    "- Extensive standard libraries - Comes with many built in modules and packages.\n",
    "- Cross platform compatibility - Runs on window , macOS and Linux.\n",
    "- Versatility - Used in web development, data science , AI , automation, and more.\n",
    "\n",
    "2. What is an interpreter in Python ?\n",
    "ANS- An interpreter rus Python code line-by-line and shows output or errors immediately.\n",
    "- Python uses an interpreter read, not a compiler.\n",
    "- Help catch errors at runtime.\n",
    "- Slower than compiled languages,but good for testing.\n",
    "- Immediate feedback is useful for beginners.\n",
    "- Python code is first converted into bytecode.\n",
    "- Bytecode is then run by the Python Virtual Machine.\n",
    "- No need for seperate compilation step.\n",
    "- Easy to test small parts of code interactively.\n",
    "- Makes debugging easier.\n",
    "\n",
    "3. What are pre-defined keywords in Python ?\n",
    "ANS - Keywords are reserved words in Pythom.\n",
    "- They have special meaning and cannot be used as variable names.\n",
    "- Examples : if, else , while, for, def , return, class.\n",
    "- As of python 3.10+ , there are 35 keywords.\n",
    "- Used for control flow, data defination, logical operations, etc\n",
    "- They are case sensitive ( True != true )\n",
    "- Cannot be reassigned or modified.\n",
    "- Stored in the keywords module.\n",
    "- Use keywords.kwlist to list all keywords.\n",
    "\n",
    "4. Can keywords be used as variables names ?\n",
    "ANS - No, Python does not allow using keywords as variables names because they already have fixed meanings in the language.\n",
    "- Examples: if = 5 gives a syntax error.\n",
    "- Prevents confusion in code understanding.\n",
    "- Helps maintain Python's structure and readibility.\n",
    "- Violating this rule breaks the program.\n",
    "- You can check using keyword.iskeyword (\"if\")\n",
    "- Always choose or camelcase for naming variables.\n",
    "- Use snake_case or camelcase for naming variables.\n",
    "- Python IDEs often highlights keywords to prevent misuse.\n",
    "\n",
    "5.  What is mutability in Python ?\n",
    "ANS - Mutability means whether an object can be changed after creation.\n",
    "- Mutable objects can be changed .\n",
    "- Immutable objects cannot be changed.\n",
    "- Example: list allows adding/removing elements.\n",
    "- Tuple or string throws error if changed.\n",
    "- Helps manage memory efficiently.\n",
    "- Important when passing arguments to functions.\n",
    "- Mutable objects can cause unexpected results if not handled properly.\n",
    "- Use based on the need: changeable vs fixed data.\n",
    "\n",
    "6. Why are lists mutable, but tuples are immutable ?\n",
    "- Lists are designed for dynamic data .\n",
    "- You can add, remove, or update list items.\n",
    "- Tuples are for fixed collections.\n",
    "- Once created, tuple items can't changed.\n",
    "- Tuples are faster than lists in iteration.\n",
    "- Tuples are used for flexible and growing data.\n",
    "- Mutability affects how they behave when passed to functions.\n",
    "- Immutable data is more secure and predictable.\n",
    "\n",
    "7. What is the difference between \"==' and \"is\" operators in Python ?\n",
    "ANS- == checks value equality.\n",
    "- is checks identity ( same memory location)\n",
    "- Example : \n",
    "    a = [1,2]: b = [1,2] \n",
    "    a==b -> True \n",
    "    a is b -> False\n",
    "- == can be true only if both refer to exact same object.\n",
    "- is is true only if both refer to exact same object.\n",
    "- is is often used to check with None.\n",
    "- Use == for checking identity.\n",
    "- Helps in memory optimization.\n",
    "- Useful in debugging reference issues.\n",
    "\n",
    "8. What are logical operators in Python ?\n",
    "ANS- used to combine or modify conditions.\n",
    "- There are 3 logical operators:\n",
    "    and : True if both conditons are True.\n",
    "    or : if at least one conditon are True.\n",
    "    not : Reverses the condtion.\n",
    "- Example : \n",
    "a = 5; b=10\n",
    "a > 3 and b < 20  -> true\n",
    "- Used in if, while, etc.\n",
    "- Improve decision making in programs.\n",
    "- Can be combined with relational operators.\n",
    "- Follow left to right short circuit evaluations.\n",
    "- Easy to use and read.\n",
    "- Help create complex conditons.\n",
    "\n",
    "9. What is type casting in Python ?\n",
    "ANS- Converting one data type into another.\n",
    "- Explicit casting : done by programmer using functions like int(), str (), float()\n",
    "- Implicit casting: done automatically by python.\n",
    "Example:\n",
    "Python\n",
    "int ('10') -> 10\n",
    "float (5) -> 5.0\n",
    "- Helps in input/output operations.\n",
    "- Needed when combining different data types.\n",
    "- Prevents errors during runtime.\n",
    "- Must be done carefully to avoid data loss.\n",
    "- Useful in mathematical calculations and formatting.\n",
    "\n",
    "10. What is the diff between implicit and explicit type casting ?\n",
    "Ans- Implicit casting: Python converts automatically.\n",
    "Example: 3+2.5 -> 5.5 (int to float)\n",
    "Explicit casting: You manually convert.\n",
    "Example: int(\"5\") -> 5\n",
    "- Implicit is safe and automatic.\n",
    "- Explicit is controlled and needs care.\n",
    "- Explicit helps in user input handling.\n",
    "- Implicit avoids unexpected type mismatch.\n",
    "- Both prevent runtime errors.\n",
    "- Used in different situations.\n",
    "- Know the difference to write correct codes.\n",
    "- Important in input validation and calculations.\n",
    "\n",
    "11. What is the purpose of conditional statements in Pythons ?\n",
    "Ans- Used to make decisions in code.\n",
    "- Allows the program to choose different paths.\n",
    "- Main keywords: if,elif,else.\n",
    "Example:\n",
    "Python \n",
    "if age > 18: print (\"Adult\")\n",
    "- Checks whether a condition is True or False.\n",
    "- Helps create interactive and dynamic programs.\n",
    "- Common in games, forms , websites etc.\n",
    "- Improves code flexibility.\n",
    "- Works with comparison and logical operators.\n",
    "- Essential part of any programming logic.\n",
    "\n",
    "12. How does the elif statement work ?\n",
    "Ans- elif statement stands for \"else if \"\n",
    "- Used after if to check another condition.\n",
    "- Runs only if the first if is False.\n",
    "- Can use mutliple elif blocks.\n",
    "- Optional else block for all other cases.\n",
    "Example :\n",
    "Python \n",
    "if a > B\n",
    "elif a==b\n",
    "else xxx\n",
    "- Helps avoid writing many if statements.\n",
    "- Increase code clarity.\n",
    "- Only one block executes in a chain.\n",
    "- Used for multi conditon decisions.\n",
    "\n",
    "13. What is the difference between for and while loops ?\n",
    "Ans - for : used when number of iterations is known.\n",
    "- while : used when condition based repetition is needed.\n",
    "- for works with sequences like list, range.\n",
    "- while runs until a condition is False.\n",
    "- for i in range(5): vs while i< 5\n",
    "- for is cleaner for countes loops.\n",
    "- for is cleaner for counted loops.\n",
    "- while gives more control.\n",
    "- Both support break, continue.\n",
    "- Choice depends on situation.\n",
    "- Helps automate repetitive tasks.\n",
    "\n",
    "14. Describe a scenario where a while loop is more suitable than a for loop.\n",
    "Ans - When the number of repetitions is not known in advance.\n",
    "Example: Keep asking user to enter correct password.\n",
    "- while password != correct: is better than a for loop.\n",
    "- Also used in games.\n",
    "- Suitable for user input validation.\n",
    "- For loops are fixed; while is flexible.\n",
    "- While loops can run infinitely if condtion never changes.\n",
    "- Use with care to avoid infinite loops.\n",
    "- Perfect for waiting conditions.\n",
    "- More control over loop termination.\n",
    "\n",
    "\n"
   ]
  },
  {
   "cell_type": "markdown",
   "id": "7ac3eb5f",
   "metadata": {},
   "source": [
    "PRACTICAL QUESTIONS"
   ]
  },
  {
   "cell_type": "markdown",
   "id": "502bf385",
   "metadata": {},
   "source": [
    "1. Print \"Hello, World!\""
   ]
  },
  {
   "cell_type": "code",
   "execution_count": 14,
   "id": "47a1a0cb",
   "metadata": {},
   "outputs": [
    {
     "name": "stdout",
     "output_type": "stream",
     "text": [
      "Hello World!\n"
     ]
    }
   ],
   "source": [
    "print(\"Hello World!\")"
   ]
  },
  {
   "cell_type": "markdown",
   "id": "f4825a50",
   "metadata": {},
   "source": [
    "2. Display name and age:"
   ]
  },
  {
   "cell_type": "code",
   "execution_count": 15,
   "id": "6defd759",
   "metadata": {},
   "outputs": [
    {
     "name": "stdout",
     "output_type": "stream",
     "text": [
      "Name: Nikhil Pathak\n",
      "Age: 22\n"
     ]
    }
   ],
   "source": [
    "name = \"Nikhil Pathak\"\n",
    "age = 22\n",
    "print(\"Name:\", name)\n",
    "print(\"Age:\", age)"
   ]
  },
  {
   "cell_type": "markdown",
   "id": "3bdcc15f",
   "metadata": {},
   "source": [
    "3. Print all keywords:\n"
   ]
  },
  {
   "cell_type": "code",
   "execution_count": 16,
   "id": "1e22e603",
   "metadata": {},
   "outputs": [
    {
     "name": "stdout",
     "output_type": "stream",
     "text": [
      "['False', 'None', 'True', 'and', 'as', 'assert', 'async', 'await', 'break', 'class', 'continue', 'def', 'del', 'elif', 'else', 'except', 'finally', 'for', 'from', 'global', 'if', 'import', 'in', 'is', 'lambda', 'nonlocal', 'not', 'or', 'pass', 'raise', 'return', 'try', 'while', 'with', 'yield']\n"
     ]
    }
   ],
   "source": [
    "import keyword\n",
    "print(keyword.kwlist)"
   ]
  },
  {
   "cell_type": "markdown",
   "id": "d9081abe",
   "metadata": {},
   "source": [
    "4. Check if a word is a keyword:"
   ]
  },
  {
   "cell_type": "code",
   "execution_count": 20,
   "id": "bee8eb1d",
   "metadata": {},
   "outputs": [
    {
     "name": "stdout",
     "output_type": "stream",
     "text": [
      "True\n"
     ]
    }
   ],
   "source": [
    "word = \"for\"\n",
    "print(keyword.iskeyword(word))\n"
   ]
  },
  {
   "cell_type": "markdown",
   "id": "e539a30b",
   "metadata": {},
   "source": [
    "5. List and tuple examples:"
   ]
  },
  {
   "cell_type": "code",
   "execution_count": 21,
   "id": "0cae1545",
   "metadata": {},
   "outputs": [],
   "source": [
    "my_list =[ 1,2,3,4,5,]\n",
    "my_tuple = (1,2,3,4,5)\n",
    "my_list[0] = 10 #works\n",
    "#my_tuple[0] = 10 #error: tuple is immutable"
   ]
  },
  {
   "cell_type": "markdown",
   "id": "f6e65304",
   "metadata": {},
   "source": [
    "6. Mutable and immutable function demo:"
   ]
  },
  {
   "cell_type": "code",
   "execution_count": 22,
   "id": "f3300391",
   "metadata": {},
   "outputs": [],
   "source": [
    "def modify_list(lst):\n",
    "    lst[0] = 99"
   ]
  },
  {
   "cell_type": "markdown",
   "id": "fe149f22",
   "metadata": {},
   "source": [
    "7. Airthmetic operations on two inputs: "
   ]
  },
  {
   "cell_type": "code",
   "execution_count": null,
   "id": "5570f851",
   "metadata": {},
   "outputs": [],
   "source": [
    "a = int(input())\n",
    "b = int(input())\n",
    "print(a+b, a-b, a*b, a/b, a//b, a%b, a**b, sep=\"\\n\")"
   ]
  },
  {
   "cell_type": "markdown",
   "id": "5f825bd1",
   "metadata": {},
   "source": [
    "8. Use logical operators:"
   ]
  },
  {
   "cell_type": "code",
   "execution_count": null,
   "id": "15a2973f",
   "metadata": {},
   "outputs": [],
   "source": [
    "x = 5\n",
    "print(x > 2 and x < 10)"
   ]
  },
  {
   "cell_type": "markdown",
   "id": "3b6883e0",
   "metadata": {},
   "source": [
    "9. Convert input to int, float, bool:"
   ]
  },
  {
   "cell_type": "code",
   "execution_count": null,
   "id": "85a86065",
   "metadata": {},
   "outputs": [],
   "source": [
    "val = input ()\n",
    "print(int(val), float(val), bool(val))"
   ]
  },
  {
   "cell_type": "markdown",
   "id": "c849a5a7",
   "metadata": {},
   "source": [
    "10. Type casting list elements:\n"
   ]
  },
  {
   "cell_type": "code",
   "execution_count": null,
   "id": "658788f0",
   "metadata": {},
   "outputs": [],
   "source": [
    "my_list = ['1', '2', '3']\n",
    "my_list = [int(i) for i in my_list]"
   ]
  },
  {
   "cell_type": "markdown",
   "id": "21c30e15",
   "metadata": {},
   "source": [
    "11. Check if numbers is +, -, or 0:"
   ]
  },
  {
   "cell_type": "code",
   "execution_count": null,
   "id": "ecc7ab02",
   "metadata": {},
   "outputs": [],
   "source": [
    "n = int(input())\n",
    "if n > 0: print(\"Positive\")\n",
    "elif n < 0: print(\"Negative\")\n",
    "else: print(\"Zero\")"
   ]
  },
  {
   "cell_type": "markdown",
   "id": "aaa22ba2",
   "metadata": {},
   "source": [
    "12. Print numbers 1 to 10 for loop:"
   ]
  },
  {
   "cell_type": "code",
   "execution_count": null,
   "id": "ffca60f2",
   "metadata": {},
   "outputs": [],
   "source": [
    "for i in range(1, 11):\n",
    "    print(i)"
   ]
  },
  {
   "cell_type": "markdown",
   "id": "c1eb3550",
   "metadata": {},
   "source": [
    "13. Sum of even numbers from 1 to 50"
   ]
  },
  {
   "cell_type": "code",
   "execution_count": null,
   "id": "762aa257",
   "metadata": {},
   "outputs": [],
   "source": [
    "print(sum(i for i in range(1, 51) if i % 2 == 0))"
   ]
  },
  {
   "cell_type": "markdown",
   "id": "f15c1914",
   "metadata": {},
   "source": [
    "14. Revers a string ( while loop):"
   ]
  },
  {
   "cell_type": "code",
   "execution_count": null,
   "id": "07c42e54",
   "metadata": {},
   "outputs": [],
   "source": [
    "s = \"hello\"\n",
    "i = les(s) -1\n",
    "rev \n",
    "while i >= 0:\n",
    "    rev += s[i]\n",
    "    i -= 1\n",
    "print(rev)"
   ]
  },
  {
   "cell_type": "markdown",
   "id": "da4679ba",
   "metadata": {},
   "source": [
    "15. Factoial using while loop:"
   ]
  },
  {
   "cell_type": "code",
   "execution_count": null,
   "id": "d8e1b48c",
   "metadata": {},
   "outputs": [],
   "source": [
    "n = int(input())\n",
    "fact = 1\n",
    "while n > 0:\n",
    "    fact *= n\n",
    "    n -= 1\n",
    "print(fact) \n"
   ]
  },
  {
   "cell_type": "markdown",
   "id": "678b10e9",
   "metadata": {},
   "source": [
    "THANKYOU"
   ]
  }
 ],
 "metadata": {
  "kernelspec": {
   "display_name": "Python 3",
   "language": "python",
   "name": "python3"
  },
  "language_info": {
   "codemirror_mode": {
    "name": "ipython",
    "version": 3
   },
   "file_extension": ".py",
   "mimetype": "text/x-python",
   "name": "python",
   "nbconvert_exporter": "python",
   "pygments_lexer": "ipython3",
   "version": "3.13.3"
  }
 },
 "nbformat": 4,
 "nbformat_minor": 5
}
